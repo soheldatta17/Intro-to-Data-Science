{
  "nbformat": 4,
  "nbformat_minor": 0,
  "metadata": {
    "colab": {
      "provenance": [],
      "authorship_tag": "ABX9TyP+fg0NTt4hDwYl/TEAjuSf",
      "include_colab_link": true
    },
    "kernelspec": {
      "name": "python3",
      "display_name": "Python 3"
    },
    "language_info": {
      "name": "python"
    }
  },
  "cells": [
    {
      "cell_type": "markdown",
      "metadata": {
        "id": "view-in-github",
        "colab_type": "text"
      },
      "source": [
        "<a href=\"https://colab.research.google.com/github/soheldatta17/Intro-to-Data-Science/blob/main/flask.ipynb\" target=\"_parent\"><img src=\"https://colab.research.google.com/assets/colab-badge.svg\" alt=\"Open In Colab\"/></a>"
      ]
    },
    {
      "cell_type": "code",
      "execution_count": null,
      "metadata": {
        "id": "mr3739XCzPc9"
      },
      "outputs": [],
      "source": [
        "!pip install pyngrok  # Install pyngrok if not already installed\n",
        "\n",
        "from flask import Flask\n",
        "from pyngrok import ngrok\n",
        "\n",
        "app = Flask(__name__)\n",
        "\n",
        "@app.route('/')\n",
        "def hello():\n",
        "    return \"Hello, World!\"\n",
        "\n",
        "if __name__ == '__main__':\n",
        "    # Set your ngrok authtoken\n",
        "    ngrok.set_auth_token(\"Your ngrok api_key\")\n",
        "\n",
        "    # Start ngrok tunnel to expose your Flask app on port 5000\n",
        "    public_url = ngrok.connect(5000)\n",
        "    print(' * ngrok tunnel \"http://{}\"'.format(public_url))\n",
        "\n",
        "    # Run your Flask app\n",
        "    app.run(host='0.0.0.0', port=5000)\n"
      ]
    },
    {
      "cell_type": "code",
      "source": [],
      "metadata": {
        "id": "8m8iBwZZzQ0H"
      },
      "execution_count": null,
      "outputs": []
    }
  ]
}