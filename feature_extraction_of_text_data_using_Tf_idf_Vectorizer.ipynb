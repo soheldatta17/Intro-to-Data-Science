{
  "nbformat": 4,
  "nbformat_minor": 0,
  "metadata": {
    "colab": {
      "provenance": [],
      "include_colab_link": true
    },
    "kernelspec": {
      "name": "python3",
      "display_name": "Python 3"
    }
  },
  "cells": [
    {
      "cell_type": "markdown",
      "metadata": {
        "id": "view-in-github",
        "colab_type": "text"
      },
      "source": [
        "<a href=\"https://colab.research.google.com/github/soheldatta17/Intro-to-Data-Science/blob/main/feature_extraction_of_text_data_using_Tf_idf_Vectorizer.ipynb\" target=\"_parent\"><img src=\"https://colab.research.google.com/assets/colab-badge.svg\" alt=\"Open In Colab\"/></a>"
      ]
    },
    {
      "cell_type": "markdown",
      "metadata": {
        "id": "FaIBmnXCknPl"
      },
      "source": [
        "About the Dataset:\n",
        "\n",
        "1. id: unique id for a news article\n",
        "2. title: the title of a news article\n",
        "3. author: author of the news article\n",
        "4. text: the text of the article; could be incomplete\n",
        "5. label: a label that marks whether the news article is real or fake:\n",
        "           1: Fake news\n",
        "           0: real News\n",
        "\n",
        "\n",
        "\n"
      ]
    },
    {
      "cell_type": "markdown",
      "metadata": {
        "id": "k399dHafvL5N"
      },
      "source": [
        "Importing the Dependencies"
      ]
    },
    {
      "cell_type": "code",
      "metadata": {
        "id": "-fetC5yqkPVe"
      },
      "source": [
        "import numpy as np\n",
        "import pandas as pd\n",
        "import re\n",
        "from nltk.corpus import stopwords\n",
        "from nltk.stem.porter import PorterStemmer\n",
        "from sklearn.feature_extraction.text import TfidfVectorizer"
      ],
      "execution_count": 4,
      "outputs": []
    },
    {
      "cell_type": "code",
      "metadata": {
        "colab": {
          "base_uri": "https://localhost:8080/"
        },
        "id": "1AC1YpmGwIDw",
        "outputId": "540024c8-2430-440e-8be3-0ee550698728"
      },
      "source": [
        "import nltk\n",
        "nltk.download('stopwords')"
      ],
      "execution_count": 5,
      "outputs": [
        {
          "output_type": "stream",
          "name": "stderr",
          "text": [
            "[nltk_data] Downloading package stopwords to /root/nltk_data...\n",
            "[nltk_data]   Package stopwords is already up-to-date!\n"
          ]
        },
        {
          "output_type": "execute_result",
          "data": {
            "text/plain": [
              "True"
            ]
          },
          "metadata": {},
          "execution_count": 5
        }
      ]
    },
    {
      "cell_type": "code",
      "metadata": {
        "colab": {
          "base_uri": "https://localhost:8080/"
        },
        "id": "dxIOt3DowpUR",
        "outputId": "df42f74f-f513-4597-ead8-2bc878c5318c"
      },
      "source": [
        "# printing the stopwords in English\n",
        "print(stopwords.words('english'))"
      ],
      "execution_count": 6,
      "outputs": [
        {
          "output_type": "stream",
          "name": "stdout",
          "text": [
            "['i', 'me', 'my', 'myself', 'we', 'our', 'ours', 'ourselves', 'you', \"you're\", \"you've\", \"you'll\", \"you'd\", 'your', 'yours', 'yourself', 'yourselves', 'he', 'him', 'his', 'himself', 'she', \"she's\", 'her', 'hers', 'herself', 'it', \"it's\", 'its', 'itself', 'they', 'them', 'their', 'theirs', 'themselves', 'what', 'which', 'who', 'whom', 'this', 'that', \"that'll\", 'these', 'those', 'am', 'is', 'are', 'was', 'were', 'be', 'been', 'being', 'have', 'has', 'had', 'having', 'do', 'does', 'did', 'doing', 'a', 'an', 'the', 'and', 'but', 'if', 'or', 'because', 'as', 'until', 'while', 'of', 'at', 'by', 'for', 'with', 'about', 'against', 'between', 'into', 'through', 'during', 'before', 'after', 'above', 'below', 'to', 'from', 'up', 'down', 'in', 'out', 'on', 'off', 'over', 'under', 'again', 'further', 'then', 'once', 'here', 'there', 'when', 'where', 'why', 'how', 'all', 'any', 'both', 'each', 'few', 'more', 'most', 'other', 'some', 'such', 'no', 'nor', 'not', 'only', 'own', 'same', 'so', 'than', 'too', 'very', 's', 't', 'can', 'will', 'just', 'don', \"don't\", 'should', \"should've\", 'now', 'd', 'll', 'm', 'o', 're', 've', 'y', 'ain', 'aren', \"aren't\", 'couldn', \"couldn't\", 'didn', \"didn't\", 'doesn', \"doesn't\", 'hadn', \"hadn't\", 'hasn', \"hasn't\", 'haven', \"haven't\", 'isn', \"isn't\", 'ma', 'mightn', \"mightn't\", 'mustn', \"mustn't\", 'needn', \"needn't\", 'shan', \"shan't\", 'shouldn', \"shouldn't\", 'wasn', \"wasn't\", 'weren', \"weren't\", 'won', \"won't\", 'wouldn', \"wouldn't\"]\n"
          ]
        }
      ]
    },
    {
      "cell_type": "markdown",
      "metadata": {
        "id": "NjeGd1CLw_6R"
      },
      "source": [
        "Data Pre-processing"
      ]
    },
    {
      "cell_type": "code",
      "metadata": {
        "id": "nCGcpu_1wzLw"
      },
      "source": [
        "# loading the dataset to a pandas DataFrame\n",
        "news_dataset = pd.read_csv('/content/train.csv', on_bad_lines='skip', engine='python')"
      ],
      "execution_count": 10,
      "outputs": []
    },
    {
      "cell_type": "code",
      "metadata": {
        "colab": {
          "base_uri": "https://localhost:8080/"
        },
        "id": "aRgmbYSbxV4-",
        "outputId": "775cf573-2a63-4c8b-a89d-8fb2078444e3"
      },
      "source": [
        "news_dataset.shape"
      ],
      "execution_count": 11,
      "outputs": [
        {
          "output_type": "execute_result",
          "data": {
            "text/plain": [
              "(194, 5)"
            ]
          },
          "metadata": {},
          "execution_count": 11
        }
      ]
    },
    {
      "cell_type": "code",
      "metadata": {
        "colab": {
          "base_uri": "https://localhost:8080/",
          "height": 206
        },
        "id": "jjJ1eB6RxZaS",
        "outputId": "b8985a19-c9f0-4f6f-8485-b639a2a7e3ab"
      },
      "source": [
        "# print the first 5 rows of the dataframe\n",
        "news_dataset.head()"
      ],
      "execution_count": 12,
      "outputs": [
        {
          "output_type": "execute_result",
          "data": {
            "text/plain": [
              "   id                                              title              author  \\\n",
              "0   0  House Dem Aide: We Didn’t Even See Comey’s Let...       Darrell Lucus   \n",
              "1   1  FLYNN: Hillary Clinton, Big Woman on Campus - ...     Daniel J. Flynn   \n",
              "2   2                  Why the Truth Might Get You Fired  Consortiumnews.com   \n",
              "3   3  15 Civilians Killed In Single US Airstrike Hav...     Jessica Purkiss   \n",
              "4   4  Iranian woman jailed for fictional unpublished...      Howard Portnoy   \n",
              "\n",
              "                                                text  label  \n",
              "0  House Dem Aide: We Didn’t Even See Comey’s Let...      1  \n",
              "1  Ever get the feeling your life circles the rou...      0  \n",
              "2  Why the Truth Might Get You Fired October 29, ...      1  \n",
              "3  Videos 15 Civilians Killed In Single US Airstr...      1  \n",
              "4  Print \\nAn Iranian woman has been sentenced to...      1  "
            ],
            "text/html": [
              "\n",
              "  <div id=\"df-bfe51541-2e2b-4d52-a90a-37497c082185\" class=\"colab-df-container\">\n",
              "    <div>\n",
              "<style scoped>\n",
              "    .dataframe tbody tr th:only-of-type {\n",
              "        vertical-align: middle;\n",
              "    }\n",
              "\n",
              "    .dataframe tbody tr th {\n",
              "        vertical-align: top;\n",
              "    }\n",
              "\n",
              "    .dataframe thead th {\n",
              "        text-align: right;\n",
              "    }\n",
              "</style>\n",
              "<table border=\"1\" class=\"dataframe\">\n",
              "  <thead>\n",
              "    <tr style=\"text-align: right;\">\n",
              "      <th></th>\n",
              "      <th>id</th>\n",
              "      <th>title</th>\n",
              "      <th>author</th>\n",
              "      <th>text</th>\n",
              "      <th>label</th>\n",
              "    </tr>\n",
              "  </thead>\n",
              "  <tbody>\n",
              "    <tr>\n",
              "      <th>0</th>\n",
              "      <td>0</td>\n",
              "      <td>House Dem Aide: We Didn’t Even See Comey’s Let...</td>\n",
              "      <td>Darrell Lucus</td>\n",
              "      <td>House Dem Aide: We Didn’t Even See Comey’s Let...</td>\n",
              "      <td>1</td>\n",
              "    </tr>\n",
              "    <tr>\n",
              "      <th>1</th>\n",
              "      <td>1</td>\n",
              "      <td>FLYNN: Hillary Clinton, Big Woman on Campus - ...</td>\n",
              "      <td>Daniel J. Flynn</td>\n",
              "      <td>Ever get the feeling your life circles the rou...</td>\n",
              "      <td>0</td>\n",
              "    </tr>\n",
              "    <tr>\n",
              "      <th>2</th>\n",
              "      <td>2</td>\n",
              "      <td>Why the Truth Might Get You Fired</td>\n",
              "      <td>Consortiumnews.com</td>\n",
              "      <td>Why the Truth Might Get You Fired October 29, ...</td>\n",
              "      <td>1</td>\n",
              "    </tr>\n",
              "    <tr>\n",
              "      <th>3</th>\n",
              "      <td>3</td>\n",
              "      <td>15 Civilians Killed In Single US Airstrike Hav...</td>\n",
              "      <td>Jessica Purkiss</td>\n",
              "      <td>Videos 15 Civilians Killed In Single US Airstr...</td>\n",
              "      <td>1</td>\n",
              "    </tr>\n",
              "    <tr>\n",
              "      <th>4</th>\n",
              "      <td>4</td>\n",
              "      <td>Iranian woman jailed for fictional unpublished...</td>\n",
              "      <td>Howard Portnoy</td>\n",
              "      <td>Print \\nAn Iranian woman has been sentenced to...</td>\n",
              "      <td>1</td>\n",
              "    </tr>\n",
              "  </tbody>\n",
              "</table>\n",
              "</div>\n",
              "    <div class=\"colab-df-buttons\">\n",
              "\n",
              "  <div class=\"colab-df-container\">\n",
              "    <button class=\"colab-df-convert\" onclick=\"convertToInteractive('df-bfe51541-2e2b-4d52-a90a-37497c082185')\"\n",
              "            title=\"Convert this dataframe to an interactive table.\"\n",
              "            style=\"display:none;\">\n",
              "\n",
              "  <svg xmlns=\"http://www.w3.org/2000/svg\" height=\"24px\" viewBox=\"0 -960 960 960\">\n",
              "    <path d=\"M120-120v-720h720v720H120Zm60-500h600v-160H180v160Zm220 220h160v-160H400v160Zm0 220h160v-160H400v160ZM180-400h160v-160H180v160Zm440 0h160v-160H620v160ZM180-180h160v-160H180v160Zm440 0h160v-160H620v160Z\"/>\n",
              "  </svg>\n",
              "    </button>\n",
              "\n",
              "  <style>\n",
              "    .colab-df-container {\n",
              "      display:flex;\n",
              "      gap: 12px;\n",
              "    }\n",
              "\n",
              "    .colab-df-convert {\n",
              "      background-color: #E8F0FE;\n",
              "      border: none;\n",
              "      border-radius: 50%;\n",
              "      cursor: pointer;\n",
              "      display: none;\n",
              "      fill: #1967D2;\n",
              "      height: 32px;\n",
              "      padding: 0 0 0 0;\n",
              "      width: 32px;\n",
              "    }\n",
              "\n",
              "    .colab-df-convert:hover {\n",
              "      background-color: #E2EBFA;\n",
              "      box-shadow: 0px 1px 2px rgba(60, 64, 67, 0.3), 0px 1px 3px 1px rgba(60, 64, 67, 0.15);\n",
              "      fill: #174EA6;\n",
              "    }\n",
              "\n",
              "    .colab-df-buttons div {\n",
              "      margin-bottom: 4px;\n",
              "    }\n",
              "\n",
              "    [theme=dark] .colab-df-convert {\n",
              "      background-color: #3B4455;\n",
              "      fill: #D2E3FC;\n",
              "    }\n",
              "\n",
              "    [theme=dark] .colab-df-convert:hover {\n",
              "      background-color: #434B5C;\n",
              "      box-shadow: 0px 1px 3px 1px rgba(0, 0, 0, 0.15);\n",
              "      filter: drop-shadow(0px 1px 2px rgba(0, 0, 0, 0.3));\n",
              "      fill: #FFFFFF;\n",
              "    }\n",
              "  </style>\n",
              "\n",
              "    <script>\n",
              "      const buttonEl =\n",
              "        document.querySelector('#df-bfe51541-2e2b-4d52-a90a-37497c082185 button.colab-df-convert');\n",
              "      buttonEl.style.display =\n",
              "        google.colab.kernel.accessAllowed ? 'block' : 'none';\n",
              "\n",
              "      async function convertToInteractive(key) {\n",
              "        const element = document.querySelector('#df-bfe51541-2e2b-4d52-a90a-37497c082185');\n",
              "        const dataTable =\n",
              "          await google.colab.kernel.invokeFunction('convertToInteractive',\n",
              "                                                    [key], {});\n",
              "        if (!dataTable) return;\n",
              "\n",
              "        const docLinkHtml = 'Like what you see? Visit the ' +\n",
              "          '<a target=\"_blank\" href=https://colab.research.google.com/notebooks/data_table.ipynb>data table notebook</a>'\n",
              "          + ' to learn more about interactive tables.';\n",
              "        element.innerHTML = '';\n",
              "        dataTable['output_type'] = 'display_data';\n",
              "        await google.colab.output.renderOutput(dataTable, element);\n",
              "        const docLink = document.createElement('div');\n",
              "        docLink.innerHTML = docLinkHtml;\n",
              "        element.appendChild(docLink);\n",
              "      }\n",
              "    </script>\n",
              "  </div>\n",
              "\n",
              "\n",
              "<div id=\"df-7611e8ea-9801-4f02-8ca6-21d69216596b\">\n",
              "  <button class=\"colab-df-quickchart\" onclick=\"quickchart('df-7611e8ea-9801-4f02-8ca6-21d69216596b')\"\n",
              "            title=\"Suggest charts\"\n",
              "            style=\"display:none;\">\n",
              "\n",
              "<svg xmlns=\"http://www.w3.org/2000/svg\" height=\"24px\"viewBox=\"0 0 24 24\"\n",
              "     width=\"24px\">\n",
              "    <g>\n",
              "        <path d=\"M19 3H5c-1.1 0-2 .9-2 2v14c0 1.1.9 2 2 2h14c1.1 0 2-.9 2-2V5c0-1.1-.9-2-2-2zM9 17H7v-7h2v7zm4 0h-2V7h2v10zm4 0h-2v-4h2v4z\"/>\n",
              "    </g>\n",
              "</svg>\n",
              "  </button>\n",
              "\n",
              "<style>\n",
              "  .colab-df-quickchart {\n",
              "      --bg-color: #E8F0FE;\n",
              "      --fill-color: #1967D2;\n",
              "      --hover-bg-color: #E2EBFA;\n",
              "      --hover-fill-color: #174EA6;\n",
              "      --disabled-fill-color: #AAA;\n",
              "      --disabled-bg-color: #DDD;\n",
              "  }\n",
              "\n",
              "  [theme=dark] .colab-df-quickchart {\n",
              "      --bg-color: #3B4455;\n",
              "      --fill-color: #D2E3FC;\n",
              "      --hover-bg-color: #434B5C;\n",
              "      --hover-fill-color: #FFFFFF;\n",
              "      --disabled-bg-color: #3B4455;\n",
              "      --disabled-fill-color: #666;\n",
              "  }\n",
              "\n",
              "  .colab-df-quickchart {\n",
              "    background-color: var(--bg-color);\n",
              "    border: none;\n",
              "    border-radius: 50%;\n",
              "    cursor: pointer;\n",
              "    display: none;\n",
              "    fill: var(--fill-color);\n",
              "    height: 32px;\n",
              "    padding: 0;\n",
              "    width: 32px;\n",
              "  }\n",
              "\n",
              "  .colab-df-quickchart:hover {\n",
              "    background-color: var(--hover-bg-color);\n",
              "    box-shadow: 0 1px 2px rgba(60, 64, 67, 0.3), 0 1px 3px 1px rgba(60, 64, 67, 0.15);\n",
              "    fill: var(--button-hover-fill-color);\n",
              "  }\n",
              "\n",
              "  .colab-df-quickchart-complete:disabled,\n",
              "  .colab-df-quickchart-complete:disabled:hover {\n",
              "    background-color: var(--disabled-bg-color);\n",
              "    fill: var(--disabled-fill-color);\n",
              "    box-shadow: none;\n",
              "  }\n",
              "\n",
              "  .colab-df-spinner {\n",
              "    border: 2px solid var(--fill-color);\n",
              "    border-color: transparent;\n",
              "    border-bottom-color: var(--fill-color);\n",
              "    animation:\n",
              "      spin 1s steps(1) infinite;\n",
              "  }\n",
              "\n",
              "  @keyframes spin {\n",
              "    0% {\n",
              "      border-color: transparent;\n",
              "      border-bottom-color: var(--fill-color);\n",
              "      border-left-color: var(--fill-color);\n",
              "    }\n",
              "    20% {\n",
              "      border-color: transparent;\n",
              "      border-left-color: var(--fill-color);\n",
              "      border-top-color: var(--fill-color);\n",
              "    }\n",
              "    30% {\n",
              "      border-color: transparent;\n",
              "      border-left-color: var(--fill-color);\n",
              "      border-top-color: var(--fill-color);\n",
              "      border-right-color: var(--fill-color);\n",
              "    }\n",
              "    40% {\n",
              "      border-color: transparent;\n",
              "      border-right-color: var(--fill-color);\n",
              "      border-top-color: var(--fill-color);\n",
              "    }\n",
              "    60% {\n",
              "      border-color: transparent;\n",
              "      border-right-color: var(--fill-color);\n",
              "    }\n",
              "    80% {\n",
              "      border-color: transparent;\n",
              "      border-right-color: var(--fill-color);\n",
              "      border-bottom-color: var(--fill-color);\n",
              "    }\n",
              "    90% {\n",
              "      border-color: transparent;\n",
              "      border-bottom-color: var(--fill-color);\n",
              "    }\n",
              "  }\n",
              "</style>\n",
              "\n",
              "  <script>\n",
              "    async function quickchart(key) {\n",
              "      const quickchartButtonEl =\n",
              "        document.querySelector('#' + key + ' button');\n",
              "      quickchartButtonEl.disabled = true;  // To prevent multiple clicks.\n",
              "      quickchartButtonEl.classList.add('colab-df-spinner');\n",
              "      try {\n",
              "        const charts = await google.colab.kernel.invokeFunction(\n",
              "            'suggestCharts', [key], {});\n",
              "      } catch (error) {\n",
              "        console.error('Error during call to suggestCharts:', error);\n",
              "      }\n",
              "      quickchartButtonEl.classList.remove('colab-df-spinner');\n",
              "      quickchartButtonEl.classList.add('colab-df-quickchart-complete');\n",
              "    }\n",
              "    (() => {\n",
              "      let quickchartButtonEl =\n",
              "        document.querySelector('#df-7611e8ea-9801-4f02-8ca6-21d69216596b button');\n",
              "      quickchartButtonEl.style.display =\n",
              "        google.colab.kernel.accessAllowed ? 'block' : 'none';\n",
              "    })();\n",
              "  </script>\n",
              "</div>\n",
              "\n",
              "    </div>\n",
              "  </div>\n"
            ],
            "application/vnd.google.colaboratory.intrinsic+json": {
              "type": "dataframe",
              "variable_name": "news_dataset",
              "summary": "{\n  \"name\": \"news_dataset\",\n  \"rows\": 194,\n  \"fields\": [\n    {\n      \"column\": \"id\",\n      \"properties\": {\n        \"dtype\": \"number\",\n        \"std\": 56,\n        \"min\": 0,\n        \"max\": 193,\n        \"num_unique_values\": 194,\n        \"samples\": [\n          138,\n          16,\n          155\n        ],\n        \"semantic_type\": \"\",\n        \"description\": \"\"\n      }\n    },\n    {\n      \"column\": \"title\",\n      \"properties\": {\n        \"dtype\": \"string\",\n        \"num_unique_values\": 190,\n        \"samples\": [\n          \"Teacher unsure about getting smashed eighth night running\",\n          \"WHO cancer agency under fire for withholding \\u2018carcinogenic glyphosate\\u2019 documents\",\n          \"BREAKING : Trump Expressed Concern Over Anthony Weiner\\u2019s \\u201cIllegal Access\\u201d to Classified Info 2 Months ago \\u2013 TruthFeed\"\n        ],\n        \"semantic_type\": \"\",\n        \"description\": \"\"\n      }\n    },\n    {\n      \"column\": \"author\",\n      \"properties\": {\n        \"dtype\": \"string\",\n        \"num_unique_values\": 149,\n        \"samples\": [\n          \"Kayla Brandon\",\n          \"Jerome Hudson\",\n          \"T Steelman\"\n        ],\n        \"semantic_type\": \"\",\n        \"description\": \"\"\n      }\n    },\n    {\n      \"column\": \"text\",\n      \"properties\": {\n        \"dtype\": \"string\",\n        \"num_unique_values\": 192,\n        \"samples\": [\n          \"Executives at 21st Century Fox decided to end the tenure of Roger Ailes after lawyers they hired to investigate an allegation of sexual harassment against him took statements from at least six other women who described inappropriate behavior from Mr. Ailes, two people briefed on the inquiry said Wednesday. One of the people said that the details of the allegations, while unverified, were troubling enough that they left 21st Century Fox little choice but to force an end to Mr. Ailes\\u2019s reign as chairman and chief executive of Fox News, given the potential liability they presented to the company both legally and in terms of its own corporate culture. The people with knowledge of the state of discussions over Mr. Ailes\\u2019s exit agreement said both sides were working toward an accommodation that would recognize Mr. Ailes\\u2019s service to the company as the founder and leader of Fox News, which sits atop the cable news ratings and is a major profit engine for 21st Century Fox. The agreement could also include a provision for him to continue with Fox as a consultant. But given the personalities and complications involved, the situation was fluid enough that no accommodation had been reached by Wednesday night. Fox News did not respond to requests for comment on the status of the discussions or on the investigation, which is being conducted by the law firm Paul, Weiss, Rifkind, Wharton  Garrison. Lawyers for Mr. Ailes did not respond to requests for comment. Mr. Ailes has denied the allegations of sexual harassment and more than a dozen Fox News staff members, including some top stars, have publicly supported him. The people briefed on the investigation, who would not speak for attribution because of the sensitivity of the investigation, stressed that it was narrowly focused on the allegations against Mr. Ailes, and not the broader climate at the network. But Mr. Ailes\\u2019s departure will have much wider implications. Given Fox News\\u2019s place as a central hub for conservative opinion  \\u2014   not to mention as a primary outlet for the Republican nominee for president, Donald J. Trump  \\u2014   the shape of its   operation goes beyond corporate intrigue at 21st Century Fox, and could have consequences for the national political dialogue. In the two weeks since Gretchen Carlson, a former Fox anchor, filed suit against Mr. Ailes, the Murdoch family, which runs 21st Century Fox, has made it clear that its decision to take the allegations seriously was in keeping with its desire to follow modern standards for office conduct, and that these needed to extend to Fox News, as well. The question in the   environment is to what extent the Murdochs decide to continue on with Mr. Ailes\\u2019s current management team. That, in turn, could determine the future approach and look of the network, which is the outlet of choice for   viewers seeking an alternative to the mainstream media. Speculation about who Mr. Ailes\\u2019s successor would be transfixed the media world on Wednesday, with focus on outsiders such as the CBS News president, David Rhodes, who had worked at Fox News for several years one of Mr. Ailes\\u2019s current lieutenants, like Bill Shine or Michael Clemente the New York Post chief executive Jesse Angelo or someone from conservative media like Christopher Ruddy, the founder and chief executive of Newsmax Media Inc. At least for the day, fears that some of Fox News\\u2019s   stars, like Bill O\\u2019Reilly, Sean Hannity and Greta Van Susteren, would exercise contract clauses to leave with Mr. Ailes\\u2019s loss of his chairmanship, appeared to abate. Network staff members were acutely focused on Megyn Kelly, who had hinted in recent months she wanted to leave the network. She was one of the women who told Paul, Weiss investigators that Mr. Ailes had acted improperly with her, one of the people briefed on the inquiry said Tuesday. Ms. Kelly maintained her silence on Wednesday. But as the end of Mr. Ailes\\u2019s chairmanship approached, it appeared to embolden other women to discuss their own experiences at the network. Several spoke with reporters on condition that they not be named. In interviews, several current and former Fox News employees said inappropriate comments about a woman\\u2019s appearance and her sex life were frequent in the newsroom. The newsroom has been on edge in the weeks since Ms. Carlson filed her suit, one person said. Everybody wants to talk about the drama but nobody wants to talk in the open, the person said. As of Wednesday evening, staff members had not received an email from 21st Century Fox, Fox News or Mr. Ailes informing them about the events that have transpired, the investigation or the future of the network. The swift pace of events at Fox News  \\u2014   only two weeks passed between Ms. Carlson\\u2019s filing of her lawsuit and the negotiations to end Mr. Ailes\\u2019s leadership  \\u2014   were especially surprising for a network that has made its name by embracing \\u201cpolitically incorrect\\u201d themes, something in keeping with the brash personalities of both Mr. Ailes and the 21st Century Fox patriarch, Rupert Murdoch. Female hosts in skirts, sitting behind translucent desks that can highlight their legs, have always been a network trademark. To completely move away from that ethos would be to fundamentally change the network. And 21st Century Fox\\u2019s leadership will have to be mindful of maintaining its special relationship with viewers that Mr. Ailes has so carefully cultivated, and which is central to the financial and ratings success of the network. Mr. Murdoch will ultimately determine that direction in close consultation  \\u2014   and perhaps even some deference  \\u2014   to the two sons he is grooming to succeed him, Lachlan and James Murdoch. The latter, at least, is known to have different politics from his father. So far, none of the three has made any public statement about the network, its future or, for that matter, Mr. Ailes.\",\n          \"Democrats in Montana have opposed a bill banning the use of foreign law in its state courts on the grounds that such legislation would target Muslims. [Senate Bill 97, introduced by Keith Regier ( ) bans the application of foreign law in Montana\\u2019s courts, with the debate particularly focused on Sharia Law, a form of Islamic law typically used in the Middle East.  Although the bill passed on party lines by   Democrats claimed it was designed to target Muslim communities. \\u201cI think it sends a dangerous message to minority groups both here living in our state and wanting to come visit our state, just merely on the fact that you may be different,\\u201d said Rep. Shane Morigeau,   while debating the bill. \\u201cI truly believe this law is repugnant. I believe this is not who we are as Montanans. \\u201d Meanwhile, Rep. Ellie Hill Smith ( ) proposed a failed amendment to the bill to include a ban on both Sharia Law and the Law of Moses, in order to \\u201cshow the state of Montana that it is not just about Islamic Law. \\u201d \\u201cThe courts have said that laws that single out certain religions violate the First Amendment,\\u201d Smith said, claiming that it was \\u201cpeppered with   bigotry. \\u201d Another Democrat, Rep. Laurie Bishop ( ) urged legislators \\u201cnot to forget the roots of this bill,\\u201d adding that \\u201cour children are watching. \\u201d Meanwhile, Rep. Brad Tschida ( ) said the bill was an attempt to push back against a \\u201cconstitution [that] is constantly under assault. \\u201d Bills specifically targeting Sharia Law have passed in states such as North Carolina, Alabama, Arizona, Kansas, Louisiana, South Dakota, and Tennessee. The bill will now be passed on to Gov. Steve Bullock (D) for signature or veto. You can follow Ben Kew on Facebook, on Twitter at @ben_kew, or email him at bkew@breitbart. com\",\n          \"Email \\nGet ready for the most cringeworthy story you\\u2019re going to read all day. \\nPanasonic might be one of the largest electronics manufacturers in the world, but after today, they may find themselves struggling to stay afloat. The company\\u2019s president has been forced to resign in disgrace after 60,000 Panasonic TVs abruptly ascended to heaven without warning. \\nWe\\u2019ll give you a minute to finish shaking your head. \\nThe scandal broke early last night when 60,000 of the company\\u2019s popular DX802-model flat-screen TVs from all over the world silently lifted off of the ground and, despite their owners yelling at them to stop and trying to drag them back down to Earth, floated away from the mortal realm and into the kingdom of heaven to reside with the immortal seraphim for all eternity. \\nYikes. Needless to say, Panasonic customers are not happy! Only a few minutes after the televisions began their skyward journey to the kingdom of God, Panasonic found themselves completely inundated with tweets like this: \\nWow. Panasonic definitely wishes it could rewind the clock on this one! Chances are, when you\\u2019re trying to stay competitive as one of the world\\u2019s foremost electronics companies, the last thing you want is for tens of thousands of your televisions to drift skyward into paradise. \\nWe\\u2019ve got to give credit where credit is due: At least Panasonic had the decency to admit that they let their customers down. The company has issued a public apology, and in a drastic move, the president of the company, Kazuhiro Tsuga, chose to resign in the wake of this scandal. Speaking at a press conference this morning, Tsuga issued the following statement: \\n\\u201cAfter much consideration, I have chosen to step down as the president of Panasonic Corp. If I could, I would travel to Heaven and retrieve each and every one of these televisions. I would kill any angel who tried to stop me from carrying these TVs out of paradise and returning them to our loyal Panasonic customers on Earth. Even if I saw God sitting on one of our missing DX802 flat-screens, I would shove the Lord off of the TV so that I could retrieve it for our customers. Unfortunately, I do not have the power to travel to Heaven, and so I am left with no choice but to resign my position.\\u201d \\nTsuga\\u2019s resignation is a nice gesture, but it doesn\\u2019t bring back a swarm of televisions from heaven. Panasonic\\u2019s reputation has been severely tarnished by the rapturing of their televisions. Whoever steps up to become Panasonic\\u2019s new president is going to have to do everything they can to prevent any of their products from ascending to heaven ever again.\"\n        ],\n        \"semantic_type\": \"\",\n        \"description\": \"\"\n      }\n    },\n    {\n      \"column\": \"label\",\n      \"properties\": {\n        \"dtype\": \"number\",\n        \"std\": 0,\n        \"min\": 0,\n        \"max\": 1,\n        \"num_unique_values\": 2,\n        \"samples\": [\n          0,\n          1\n        ],\n        \"semantic_type\": \"\",\n        \"description\": \"\"\n      }\n    }\n  ]\n}"
            }
          },
          "metadata": {},
          "execution_count": 12
        }
      ]
    },
    {
      "cell_type": "code",
      "metadata": {
        "colab": {
          "base_uri": "https://localhost:8080/"
        },
        "id": "QYkDi4SwxlKi",
        "outputId": "93a4a50d-16e4-437c-cae8-7be217589d37"
      },
      "source": [
        "# counting the number of missing values in the dataset\n",
        "news_dataset.isnull().sum()"
      ],
      "execution_count": 13,
      "outputs": [
        {
          "output_type": "execute_result",
          "data": {
            "text/plain": [
              "id         0\n",
              "title      4\n",
              "author    20\n",
              "text       1\n",
              "label      0\n",
              "dtype: int64"
            ]
          },
          "metadata": {},
          "execution_count": 13
        }
      ]
    },
    {
      "cell_type": "code",
      "metadata": {
        "id": "Mc04lQrhx57m"
      },
      "source": [
        "# replacing the null values with empty string\n",
        "news_dataset = news_dataset.fillna('')"
      ],
      "execution_count": 14,
      "outputs": []
    },
    {
      "cell_type": "code",
      "metadata": {
        "id": "H7TZgHszygxj"
      },
      "source": [
        "# merging the author name and news title\n",
        "news_dataset['content'] = news_dataset['author']+' '+news_dataset['title']"
      ],
      "execution_count": 15,
      "outputs": []
    },
    {
      "cell_type": "code",
      "metadata": {
        "colab": {
          "base_uri": "https://localhost:8080/"
        },
        "id": "cbF6GBBpzBey",
        "outputId": "a9e1041b-76f4-4ba8-c49b-1e437f844fb3"
      },
      "source": [
        "print(news_dataset['content'])"
      ],
      "execution_count": 16,
      "outputs": [
        {
          "output_type": "stream",
          "name": "stdout",
          "text": [
            "0      Darrell Lucus House Dem Aide: We Didn’t Even S...\n",
            "1      Daniel J. Flynn FLYNN: Hillary Clinton, Big Wo...\n",
            "2      Consortiumnews.com Why the Truth Might Get You...\n",
            "3      Jessica Purkiss 15 Civilians Killed In Single ...\n",
            "4      Howard Portnoy Iranian woman jailed for fictio...\n",
            "                             ...                        \n",
            "189    BareNakedIslam UK citizens and war heroes get ...\n",
            "190    IWB After Vets Fight War, Feds Demand Money Ba...\n",
            "191    Robert Draper Mr. Trump’s Wild Ride - The New ...\n",
            "192    DSG Here Is How FBI Director Comey BAMBOOZLED ...\n",
            "193    Twain Yobra 20 Foods That Naturally Unclog Art...\n",
            "Name: content, Length: 194, dtype: object\n"
          ]
        }
      ]
    },
    {
      "cell_type": "code",
      "metadata": {
        "id": "LfBtAvLtzEo6"
      },
      "source": [
        "# separating the data & label\n",
        "X = news_dataset.drop(columns='label', axis=1)\n",
        "Y = news_dataset['label']"
      ],
      "execution_count": 17,
      "outputs": []
    },
    {
      "cell_type": "code",
      "metadata": {
        "colab": {
          "base_uri": "https://localhost:8080/"
        },
        "id": "oHPBr540zl1h",
        "outputId": "d5126564-8802-4fbb-b86f-8d140ef97b43"
      },
      "source": [
        "print(X)\n",
        "print(Y)"
      ],
      "execution_count": 18,
      "outputs": [
        {
          "output_type": "stream",
          "name": "stdout",
          "text": [
            "      id                                              title  \\\n",
            "0      0  House Dem Aide: We Didn’t Even See Comey’s Let...   \n",
            "1      1  FLYNN: Hillary Clinton, Big Woman on Campus - ...   \n",
            "2      2                  Why the Truth Might Get You Fired   \n",
            "3      3  15 Civilians Killed In Single US Airstrike Hav...   \n",
            "4      4  Iranian woman jailed for fictional unpublished...   \n",
            "..   ...                                                ...   \n",
            "189  189  UK citizens and war heroes get cheap pre-fab h...   \n",
            "190  190  After Vets Fight War, Feds Demand Money Back… ...   \n",
            "191  191         Mr. Trump’s Wild Ride - The New York Times   \n",
            "192  192  Here Is How FBI Director Comey BAMBOOZLED The ...   \n",
            "193  193  20 Foods That Naturally Unclog Arteries and Pr...   \n",
            "\n",
            "                 author                                               text  \\\n",
            "0         Darrell Lucus  House Dem Aide: We Didn’t Even See Comey’s Let...   \n",
            "1       Daniel J. Flynn  Ever get the feeling your life circles the rou...   \n",
            "2    Consortiumnews.com  Why the Truth Might Get You Fired October 29, ...   \n",
            "3       Jessica Purkiss  Videos 15 Civilians Killed In Single US Airstr...   \n",
            "4        Howard Portnoy  Print \\nAn Iranian woman has been sentenced to...   \n",
            "..                  ...                                                ...   \n",
            "189      BareNakedIslam  UK citizens and war heroes get cheap pre-fab h...   \n",
            "190                 IWB  After Vets Fight War, Feds Demand Money Back… ...   \n",
            "191       Robert Draper  ‘Have you seen the latest polls? I’m beating H...   \n",
            "192                 DSG  1 comment James Comey just outfoxed the entire...   \n",
            "193         Twain Yobra  20 Foods That Naturally Unclog Arteries and Pr...   \n",
            "\n",
            "                                               content  \n",
            "0    Darrell Lucus House Dem Aide: We Didn’t Even S...  \n",
            "1    Daniel J. Flynn FLYNN: Hillary Clinton, Big Wo...  \n",
            "2    Consortiumnews.com Why the Truth Might Get You...  \n",
            "3    Jessica Purkiss 15 Civilians Killed In Single ...  \n",
            "4    Howard Portnoy Iranian woman jailed for fictio...  \n",
            "..                                                 ...  \n",
            "189  BareNakedIslam UK citizens and war heroes get ...  \n",
            "190  IWB After Vets Fight War, Feds Demand Money Ba...  \n",
            "191  Robert Draper Mr. Trump’s Wild Ride - The New ...  \n",
            "192  DSG Here Is How FBI Director Comey BAMBOOZLED ...  \n",
            "193  Twain Yobra 20 Foods That Naturally Unclog Art...  \n",
            "\n",
            "[194 rows x 5 columns]\n",
            "0      1\n",
            "1      0\n",
            "2      1\n",
            "3      1\n",
            "4      1\n",
            "      ..\n",
            "189    1\n",
            "190    1\n",
            "191    0\n",
            "192    1\n",
            "193    1\n",
            "Name: label, Length: 194, dtype: int64\n"
          ]
        }
      ]
    },
    {
      "cell_type": "markdown",
      "metadata": {
        "id": "0NwFcpqcz37a"
      },
      "source": [
        "Stemming:\n",
        "\n",
        "Stemming is the process of reducing a word to its Root word\n",
        "\n",
        "example:\n",
        "actor, actress, acting --> act"
      ]
    },
    {
      "cell_type": "code",
      "metadata": {
        "id": "Ga_DaZxhzoWM"
      },
      "source": [
        "port_stem = PorterStemmer()"
      ],
      "execution_count": 19,
      "outputs": []
    },
    {
      "cell_type": "code",
      "metadata": {
        "id": "zY-n0dCh0e-y"
      },
      "source": [
        "def stemming(content):\n",
        "    stemmed_content = re.sub('[^a-zA-Z]',' ',content)\n",
        "    stemmed_content = stemmed_content.lower()\n",
        "    stemmed_content = stemmed_content.split()\n",
        "    stemmed_content = [port_stem.stem(word) for word in stemmed_content\n",
        "                       if not word in stopwords.words('english')]\n",
        "    stemmed_content = ' '.join(stemmed_content)\n",
        "    return stemmed_content"
      ],
      "execution_count": 20,
      "outputs": []
    },
    {
      "cell_type": "code",
      "metadata": {
        "id": "MBUIk4c94yTL"
      },
      "source": [
        "news_dataset['content'] = news_dataset['content'].apply(stemming)"
      ],
      "execution_count": 21,
      "outputs": []
    },
    {
      "cell_type": "code",
      "metadata": {
        "colab": {
          "base_uri": "https://localhost:8080/"
        },
        "id": "xmwK-zyO5Stg",
        "outputId": "bac5bf82-69c4-4fca-8131-49100c272ec5"
      },
      "source": [
        "print(news_dataset['content'])"
      ],
      "execution_count": 22,
      "outputs": [
        {
          "output_type": "stream",
          "name": "stdout",
          "text": [
            "0      darrel lucu hous dem aid even see comey letter...\n",
            "1      daniel j flynn flynn hillari clinton big woman...\n",
            "2                 consortiumnew com truth might get fire\n",
            "3      jessica purkiss civilian kill singl us airstri...\n",
            "4      howard portnoy iranian woman jail fiction unpu...\n",
            "                             ...                        \n",
            "189    barenakedislam uk citizen war hero get cheap p...\n",
            "190    iwb vet fight war fed demand money back illeg ...\n",
            "191       robert draper mr trump wild ride new york time\n",
            "192    dsg fbi director comey bamboozl doj congress c...\n",
            "193    twain yobra food natur unclog arteri prevent h...\n",
            "Name: content, Length: 194, dtype: object\n"
          ]
        }
      ]
    },
    {
      "cell_type": "code",
      "metadata": {
        "id": "5ZIidnta5k5h"
      },
      "source": [
        "#separating the data and label\n",
        "X = news_dataset['content'].values\n",
        "Y = news_dataset['label'].values"
      ],
      "execution_count": 23,
      "outputs": []
    },
    {
      "cell_type": "code",
      "metadata": {
        "colab": {
          "base_uri": "https://localhost:8080/"
        },
        "id": "3nA_SBZX6BeH",
        "outputId": "e857f204-ef3a-4cf2-98dd-d54f91e3aabd"
      },
      "source": [
        "print(X)"
      ],
      "execution_count": 24,
      "outputs": [
        {
          "output_type": "stream",
          "name": "stdout",
          "text": [
            "['darrel lucu hous dem aid even see comey letter jason chaffetz tweet'\n",
            " 'daniel j flynn flynn hillari clinton big woman campu breitbart'\n",
            " 'consortiumnew com truth might get fire'\n",
            " 'jessica purkiss civilian kill singl us airstrik identifi'\n",
            " 'howard portnoy iranian woman jail fiction unpublish stori woman stone death adulteri'\n",
            " 'daniel nussbaum jacki mason hollywood would love trump bomb north korea lack tran bathroom exclus video breitbart'\n",
            " 'life life luxuri elton john favorit shark pictur stare long transcontinent flight'\n",
            " 'alissa j rubin beno hamon win french socialist parti presidenti nomin new york time'\n",
            " 'excerpt draft script donald trump q ampa black church pastor new york time'\n",
            " 'megan twohey scott shane back channel plan ukrain russia courtesi trump associ new york time'\n",
            " 'aaron klein obama organ action partner soro link indivis disrupt trump agenda'\n",
            " 'chri tomlinson bbc comedi sketch real housew isi caus outrag'\n",
            " 'amando flavio russian research discov secret nazi militari base treasur hunter arctic photo'\n",
            " 'jason ditz us offici see link trump russia'\n",
            " 'anotheranni ye paid govern troll social media blog forum websit'\n",
            " 'jack william major leagu soccer argentin find home success new york time'\n",
            " 'michael corkeri staci cowley well fargo chief abruptli step new york time'\n",
            " 'starkman anonym donor pay million releas everyon arrest dakota access pipelin'\n",
            " 'doc fbi close hillari'\n",
            " 'jeff poor chuck todd buzzfe donald trump polit favor breitbart'\n",
            " 'news hope gop nude paul ryan emerg ayahuasca tent vision new republican parti'\n",
            " 'jerom hudson monica lewinski clinton sex scandal set american crime stori'\n",
            " 'pam key rob reiner trump mental unstabl breitbart'\n",
            " 'massachusett cop wife bust pin fake home invas robberi black live matter'\n",
            " 'donald g mcneil jr pam belluck abort pill order rise latin american nation zika alert new york time'\n",
            " 'ira helfand nuke un histor treati ban nuclear weapon'\n",
            " 'aaron klein ali wake exclus islam state support vow shake west follow manchest terrorist massacr breitbart'\n",
            " 'amanda shea humili hillari tri hide camera caught min ralli'\n",
            " 'jim dwyer andrea tantaro fox news claim retali sex harass complaint new york time'\n",
            " 'mark landler hillari clinton becam hawk new york time'\n",
            " 'ian hanchett chuck todd buzzfe eic publish fake news breitbart'\n",
            " 'israel becom pivot china mid eastern calculu http journal neo org israel becom pivot china mid eastern calculu'\n",
            " 'steven erlang bori johnson brexit leader fumbl new york time'\n",
            " 'clifford krauss texa oil field rebound price lull job left behind new york time'\n",
            " 'lesli picker danni hakim michael j de la merc bayer deal monsanto follow agribusi trend rais worri farmer new york time'\n",
            " 'andrew higgin russia move ban jehovah wit extremist new york time'\n",
            " 'greanfinish still danger zone januari th' 'b open thread u elect'\n",
            " 'awr hawkin democrat gutierrez blame chicago gun violenc nra breitbart'\n",
            " 'aaron e carrol avoid peanut avoid allergi bad strategi new york time'\n",
            " 'dr susan berri mri show detail imag week unborn babi breitbart'\n",
            " 'alexandria laredo best kind milk dairi'\n",
            " 'kati roger ryan locht drop speedo usa retail new york time'\n",
            " 'one girlfriend without bastard f king ask harri'\n",
            " 'ian mason conserv urg session clean obama civil right divis breitbart'\n",
            " 'jim rutenberg ben protess emili steel intern inquiri seal fate roger ail fox new york time'\n",
            " 'gordon duff senior editor press tv debat duff lebanon hezbollah aoun presid video'\n",
            " ''\n",
            " 'brian x chen samsung combust galaxi note unveil new smartphon new york time'\n",
            " 'virginia hale poland vow referendum migrant quota amidst eu pressur public voic heard breitbart'\n",
            " 'lanc schuttler spark inner revolut'\n",
            " 'duel drill increas nato russia tension'\n",
            " 'nate church studi half car crash involv driver distract cell phone breitbart'\n",
            " 'dairi' 'samantha bee explor danger rise alt right american polit video'\n",
            " 'lanc schuttler trump elect spark individu collect heal'\n",
            " 'madelin ep fade black jimmi church w laura eisenhow restor balanc video'\n",
            " 'r islam cognit true islam book review'\n",
            " 'doc donald trump win elect biggest miracl us polit histori'\n",
            " 'jeff gordini mind eat way fight bing new york time'\n",
            " 'neil irwin major potenti impact corpor tax overhaul new york time'\n",
            " 'anonym coward uid wonder glp like day elect'\n",
            " 'kenneth chang sewel chan maker world smallest machin award nobel prize chemistri new york time'\n",
            " 'truth broadcast network massiv anti trump protest union squar nyc live stream'\n",
            " 'scott review lion bring tear lost boy wipe dri googl new york time'\n",
            " 'kristina wong u gener islam state chemic attack impact u forc'\n",
            " 'admin juri find oregon standoff defend guilti feder conspiraci gun charg'\n",
            " 'doc clinton campaign stun fbi reportedli reopen probe hillari clinton email'\n",
            " 'jeremi w peter penc speak anti abort ralli new york time'\n",
            " 'jason easley berni sander say media trump gutless polit coward'\n",
            " 'chri black make briquett daili wast'\n",
            " 'ivan stakhanovet treason nyt vow reded report'\n",
            " 'jacey fortin dress like woman mean new york time'\n",
            " 'brett anderson ella brennan still feed lead new orlean new york time'\n",
            " 'jane perlez press asia agenda obama tread lightli human right new york time'\n",
            " 'josh katz democrat percent chanc retak senat new york time'\n",
            " 'news pr disast presid panason forc resign panason tv ascend heaven without warn'\n",
            " 'redflag newsdesk judg spank transgend obsess obama lie redflag news'\n",
            " 'mark landler u diplomat urg strike assad syria new york time'\n",
            " 'pam key franken call independ investig trump putin crush breitbart'\n",
            " 'andrea kannapel sandra stevenson louisiana simon bile u presidenti race tuesday even brief new york time'\n",
            " 'breitbart london turkey threaten open migrant land passag europ row dutch'\n",
            " 'steve sailer huma weiner dog hillari'\n",
            " 'scott osborn colin kaepernick start black panther inspir youth camp wow'\n",
            " 'nichola kulish vivian yee caitlin dickerson liz robbin fernanda santo jennif medina trump immigr polici explain new york time'\n",
            " 'niraj chokshi liam stack mari tyler moor mourn dick van dyke star new york time'\n",
            " 'heather callaghan poison'\n",
            " 'jack heali trump fan ralli across nation support presid new york time'\n",
            " 'kayla brandon fox biz report help bash clinton ralli cover trump pack event day'\n",
            " 'amanda hess fiction podcast worth listen new york time'\n",
            " 'mike birbiglia mike birbiglia tip make small hollywood anywher new york time'\n",
            " 'mac slavo invest strategist forecast collaps timelin last gasp econom cycl come'\n",
            " 'nichola casey patricia torr venezuela muzzl legislatur move closer one man rule new york time'\n",
            " 'natur news editor whether john mccain mitt romney donald trump democrat alway run war women tactic destroy republican candid'\n",
            " 'breitbart news breitbart news daili trump boom breitbart'\n",
            " 'edwin mora white hous confirm gitmo transfer obama leav offic'\n",
            " 'geometri energi medit buddha'\n",
            " 'katherin rodriguez poll voter heard democrat elect candid breitbart'\n",
            " 'vivian yee migrant confront judgment day old deport order new york time'\n",
            " 'tara siegel bernard n u yale su retir plan fee new york time'\n",
            " 'activist post technocraci real reason un want control internet'\n",
            " 'matt richtel american driver regain appetit ga guzzler new york time'\n",
            " 'nichola confessor rachel shorey hillari clinton build million war chest doubl donald trump new york time'\n",
            " 'amanda shea trump catch sick report snuck interview priceless respons'\n",
            " 'joel b pollak senat contact russian govern week'\n",
            " 'anti media imag perfectli illustr struggl dakota access pipelin'\n",
            " 'michael patrick leahi washington state take refuge muslim rest countri take refuge muslim breitbart'\n",
            " 'houthi forc captur saudi militari base asir russia news'\n",
            " 'warner todd huston ncaa big keep watch eye texa bathroom bill breitbart'\n",
            " 'dylan gwinn massiv espn financi subscrib loss drag disney first quarter sale breitbart'\n",
            " 'john koblin megyn kelli contract set expir next year prime big show new york time'\n",
            " 'katherin rodriguez teacher suspend allow student hit trump pinata cinco de mayo'\n",
            " 'ami moreno break trump express concern anthoni weiner illeg access classifi info month ago truthfe'\n",
            " 'michael j de la merc snap share leap debut investor doubt valu vanish new york time'\n",
            " 'admin clinton campaign chair dinner top doj offici one day hillari benghazi hear'\n",
            " 'warner todd huston tv seri first femal mlb pitcher can one low rate season breitbart'\n",
            " 'jer longman seek best fit women final four return friday sunday new york time'\n",
            " 'ian austen propos canadian nation bird ruffl feather new york time'\n",
            " 'jon parel review beyonc make lemonad marit strife new york time'\n",
            " 'glenn thrush kate kelli maggi haberman trump ask sharp increas militari spend offici say new york time'\n",
            " 'anonym'\n",
            " 'contribut author waterg smoke gun email discuss clean obama hillari email'\n",
            " 'eric striker chapo trap hous new left wing podcast flagrant rip right stuff'\n",
            " 'michael forsyth chri buckley taiwan respond china send carrier taiwan strait new york time'\n",
            " 'seeksearchdestori'\n",
            " 'david stockman mother octob surpris hous card come tumbl'\n",
            " 'wmw admin explos assang pilger interview us elect expect riot hillari win'\n",
            " 'denni overby telescop ate astronomi track surpass hubbl new york time'\n",
            " 'mujib mashal close afghan pakistani border becom humanitarian crisi new york time'\n",
            " 'kristina wong tv anchor arriv white hous lunch donald trump breitbart'\n",
            " 'trent baker pelosi republican tell trump bring dishonor presid breitbart'\n",
            " 'editor beauti prehistor world earth wasteland'\n",
            " 'farhad manjoo ignor trump news week learn new york time'\n",
            " 'nick corasan maggi haberman donald trump unveil plan famili bid women vote new york time'\n",
            " 'eu finland help settlement syria conflict iran parliament speaker'\n",
            " 'fbi director comey leak memo explain reopen clinton email case'\n",
            " 'ben kew montana democrat vote bill ban sharia law call repugn breitbart'\n",
            " 'editor monsanto tribun go happen' 'shame heartbreak anoth day america'\n",
            " 'victor mather doug mill chang w lee offici simon bile world best gymnast new york time'\n",
            " 'anonym'\n",
            " 'beforeitsnew com liter hurt brain read econom idioci emit trumpkin libertarian'\n",
            " 'gorafi magazin entretien exclusif avec barack obama plu rien secouer merdez vou le gorafi'\n",
            " 'geoffrey grider u n secretari gener complain mass reject global favor nation'\n",
            " 'steelman trump bollywood ad meant sway indian american voter hilari fail video'\n",
            " 'zero hedg fbi find previous unseen hillari clinton email weiner laptop'\n",
            " 'starkman year american journalist kill conspiraci theori syria proven fact'\n",
            " 'awr hawkin report illeg alien forego food stamp stay trump radar'\n",
            " 'european union time make netherland great hahaha spread worldwid'\n",
            " 'aaron klein four kill injur jerusalem truck ram terror attack'\n",
            " 'andrew anglin leader salut comrad newt brutal megyn sic kelli beatdown play game'\n",
            " 'colin taylor student black colleg got beaten mace protest kkk david duke'\n",
            " 'awr hawkin despit strict gun control one child youth shot everi day ontario'\n",
            " 'amanda hess rise internet fan bulli new york time'\n",
            " 'jason horowitz newli vibrant washington fear trump drain cultur new york time'\n",
            " 'binyamin appelbaum fed hold interest rate steadi plan slower increas new york time'\n",
            " 'ari lieberman battl unesco'\n",
            " 'juli hirschfeld davi latest test white hous pull easter egg roll new york time'\n",
            " 'katherin rodriguez burlesqu dancer fire investig secret servic trump assassin tweet breitbart'\n",
            " 'nathan j robinson clinton haiti'\n",
            " 'vivian yee cuomo christi parallel path top troubl got new york time'\n",
            " 'dikran arakelian norepli blogger com top place world allow visit'\n",
            " 'whitney webb new studi link fluorid consumpt hypothyroid weight gain wors'\n",
            " 'david swanson jame matti secretari offens'\n",
            " 'colin taylor black church burn spray paint vote trump'\n",
            " 'michael j de la merc sear agre sell craftsman stanley black amp decker rais cash new york time'\n",
            " 'jonathan sobl takata chief execut resign financi pressur mount new york time'\n",
            " 'christoph shea goodby good black sabbath new york time'\n",
            " 'adel nazarian teen geisha doll gang bust arm robberi breitbart'\n",
            " 'jame fulford mohamad khwei anoth virginia man palestinian american muslim charg terror'\n",
            " 'rememb talk stand rock'\n",
            " 'pam key price obamacar replac nobodi wors financi breitbart'\n",
            " 'arnaldo rodger va fail properli examin thousand veteran'\n",
            " 'guest trump famili alreadi sworn secreci fake moon land soon'\n",
            " 'warner todd huston sport writer nfl great jim brown decad civil right work eras say nice thing donald trump breitbart'\n",
            " 'spider pig found amazon rain forest'\n",
            " 'jeremi w peter watch tv excus republican skip donald trump convent new york time'\n",
            " 'colin taylor open letter trump voter told like'\n",
            " 'runsinquicksand comment power corpor lobbi quietli back hillari nobodi talk runsinquicksand'\n",
            " 'teacher unsur get smash eighth night run'\n",
            " 'declan walsh hijack end peac libyan airlin land malta new york time'\n",
            " 'wesley morri like girl girl geniu new york time'\n",
            " 'carl zimmer scientist say canadian bacteria fossil may earth oldest new york time'\n",
            " 'ann barnard karam shoumali pro govern forc advanc syria amid talk u russia cooper new york time'\n",
            " 'rt cancer agenc fire withhold carcinogen glyphos document'\n",
            " 'gretchen reynold work walk minut work new york time'\n",
            " 'milit use toxic ga near aleppo airport report'\n",
            " 'sopan deb steve harvey talk hous presid elect trump new york time'\n",
            " 'edwin mora coalit u troop fight mosul offens come fire'\n",
            " 'barenakedislam uk citizen war hero get cheap pre fab hous muslim colon get taxpay fund luxuri council home'\n",
            " 'iwb vet fight war fed demand money back illeg refuge keep money'\n",
            " 'robert draper mr trump wild ride new york time'\n",
            " 'dsg fbi director comey bamboozl doj congress clinton'\n",
            " 'twain yobra food natur unclog arteri prevent heart attack']\n"
          ]
        }
      ]
    },
    {
      "cell_type": "code",
      "metadata": {
        "colab": {
          "base_uri": "https://localhost:8080/"
        },
        "id": "NgkFGXkg6HS4",
        "outputId": "300f6e03-5de5-4828-8c8b-1d7e00125f2e"
      },
      "source": [
        "print(Y)"
      ],
      "execution_count": 25,
      "outputs": [
        {
          "output_type": "stream",
          "name": "stdout",
          "text": [
            "[1 0 1 1 1 0 1 0 0 0 0 0 1 1 1 0 0 1 1 0 1 0 0 1 0 1 0 1 0 0 0 1 0 0 0 0 1\n",
            " 1 0 0 0 1 0 1 0 0 1 1 0 0 1 1 0 1 1 1 1 1 1 0 0 1 0 1 0 0 1 1 0 1 1 1 0 0\n",
            " 0 0 1 1 0 0 0 0 1 1 0 0 1 0 1 0 0 1 0 1 0 0 1 0 0 0 1 0 0 1 0 1 0 1 0 0 0\n",
            " 0 1 0 1 0 0 0 0 0 1 1 1 0 1 1 1 0 0 0 0 1 0 0 1 1 0 1 1 0 1 1 1 1 1 1 1 0\n",
            " 1 0 1 1 0 0 0 0 1 0 0 1 0 1 1 1 1 0 0 0 0 1 1 0 1 1 0 1 0 1 1 1 0 0 0 0 1\n",
            " 0 1 0 0 1 1 0 1 1]\n"
          ]
        }
      ]
    },
    {
      "cell_type": "code",
      "metadata": {
        "colab": {
          "base_uri": "https://localhost:8080/"
        },
        "id": "Iu2ZEBkL6QTm",
        "outputId": "8488c4bd-d48a-4959-f736-2a7f705cded0"
      },
      "source": [
        "Y.shape"
      ],
      "execution_count": 26,
      "outputs": [
        {
          "output_type": "execute_result",
          "data": {
            "text/plain": [
              "(194,)"
            ]
          },
          "metadata": {},
          "execution_count": 26
        }
      ]
    },
    {
      "cell_type": "markdown",
      "metadata": {
        "id": "-UloskM52Fc4"
      },
      "source": [
        "Tf-Idf"
      ]
    },
    {
      "cell_type": "code",
      "metadata": {
        "id": "8cESLGsJxxDA"
      },
      "source": [
        "# convert the textual data to Feature Vectors\n",
        "vectorizer = TfidfVectorizer()"
      ],
      "execution_count": 27,
      "outputs": []
    },
    {
      "cell_type": "code",
      "metadata": {
        "id": "Q_LP0Hwr2SfR"
      },
      "source": [
        "vectorizer.fit(X)\n",
        "\n",
        "X = vectorizer.transform(X)"
      ],
      "execution_count": 28,
      "outputs": []
    },
    {
      "cell_type": "code",
      "metadata": {
        "colab": {
          "base_uri": "https://localhost:8080/"
        },
        "id": "5qW7RTiy2jUH",
        "outputId": "1ac3f1b8-5b03-4e3e-8376-a869794c8f14"
      },
      "source": [
        "print(X)"
      ],
      "execution_count": 29,
      "outputs": [
        {
          "output_type": "stream",
          "name": "stdout",
          "text": [
            "  (0, 1189)\t0.28701827046120976\n",
            "  (0, 1013)\t0.28701827046120976\n",
            "  (0, 694)\t0.309509028881756\n",
            "  (0, 668)\t0.28701827046120976\n",
            "  (0, 592)\t0.25868326587166335\n",
            "  (0, 533)\t0.22607930656968184\n",
            "  (0, 376)\t0.28701827046120976\n",
            "  (0, 295)\t0.309509028881756\n",
            "  (0, 281)\t0.309509028881756\n",
            "  (0, 235)\t0.27106082341077437\n",
            "  (0, 190)\t0.309509028881756\n",
            "  (0, 18)\t0.309509028881756\n",
            "  (1, 1264)\t0.2989660022020372\n",
            "  (1, 523)\t0.22685652188879035\n",
            "  (1, 430)\t0.6827447496533754\n",
            "  (1, 279)\t0.3165662370496589\n",
            "  (1, 221)\t0.23175349180035795\n",
            "  (1, 171)\t0.3413723748266877\n",
            "  (1, 145)\t0.18214121624630047\n",
            "  (1, 122)\t0.2989660022020372\n",
            "  (2, 1182)\t0.41093445731461126\n",
            "  (2, 741)\t0.4431352910500033\n",
            "  (2, 461)\t0.38808760218841976\n",
            "  (2, 423)\t0.3703662045852579\n",
            "  (2, 247)\t0.4431352910500033\n",
            "  :\t:\n",
            "  (191, 1255)\t0.4213226045178547\n",
            "  (191, 1180)\t0.19899437511223927\n",
            "  (191, 1152)\t0.15617339089289334\n",
            "  (191, 971)\t0.4213226045178547\n",
            "  (191, 962)\t0.4213226045178547\n",
            "  (191, 789)\t0.15395241193421016\n",
            "  (191, 771)\t0.4213226045178547\n",
            "  (191, 332)\t0.4213226045178547\n",
            "  (192, 407)\t0.31278214436406976\n",
            "  (192, 338)\t0.3894632193843705\n",
            "  (192, 321)\t0.36116251613022254\n",
            "  (192, 308)\t0.36116251613022254\n",
            "  (192, 245)\t0.3894632193843705\n",
            "  (192, 235)\t0.34108284761821767\n",
            "  (192, 221)\t0.26440177259791686\n",
            "  (192, 92)\t0.3894632193843705\n",
            "  (193, 1281)\t0.34326215030270957\n",
            "  (193, 1197)\t0.34326215030270957\n",
            "  (193, 1188)\t0.34326215030270957\n",
            "  (193, 899)\t0.34326215030270957\n",
            "  (193, 780)\t0.3183186902515816\n",
            "  (193, 509)\t0.34326215030270957\n",
            "  (193, 432)\t0.3183186902515816\n",
            "  (193, 78)\t0.3006210236999324\n",
            "  (193, 67)\t0.34326215030270957\n"
          ]
        }
      ]
    }
  ]
}